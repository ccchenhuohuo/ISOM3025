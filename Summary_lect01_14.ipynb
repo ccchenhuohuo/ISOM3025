{
 "cells": [
  {
   "attachments": {},
   "cell_type": "markdown",
   "id": "dc1d822e",
   "metadata": {},
   "source": [
    "% ISOM 3025 Lect3\n",
    "% Yi Ding\n",
    "% January 2023\n",
    "\n",
    "# Review\n",
    "\n",
    "\n",
    "\n",
    "\n",
    "## Lecture 1: Introduction\n",
    "\n",
    "* What is simulation models; Classifications\n",
    "* Advantages and limitations\n",
    "* Terminology: Simulation, Modeling, System, State variables, etc.\n",
    "* How to approach simulation-based problem\n",
    "\n",
    "\n",
    "## Lecture 2: Refresh on Probability, Statisitcs and Linear Algebra\n",
    "\n",
    "* Probability/Statistics terms: Understand what are\n",
    "\n",
    "    Random variable, CDF, PDF, expected value, variance, \n",
    "    normal distribution\n",
    "    i.i.d.\n",
    "    simple random sampling\n",
    "    sample mean\n",
    "    unbiasness\n",
    "    efficiency\n",
    "    confidence interval\n",
    "    hypothesis test\n",
    "    central limit theorem\n",
    "    ...\n",
    "    \n",
    "* Understand matrix algebra: summation, multiplication\n",
    "\n",
    "## Lecture 3: Random number generating with Python\n",
    " \n",
    " * jupyter notebook enviroment of python programming\n",
    " * pseudo-random number generator (PRNG)\n",
    "  \n",
    "  * Generating integer: Linear congruential generator\n",
    "  * Generating random numbers with uniform distribution\n",
    "  * Generating random variable from general distribution:inverse transform sampling method\n",
    "\n",
    "\n",
    " \n"
   ]
  },
  {
   "cell_type": "markdown",
   "id": "83f2ed48",
   "metadata": {},
   "source": [
    "## Lecture 4: Monte Carlo simulation\n",
    " \n",
    " * Understand what is  Monte Carlo simulation\n",
    " * Able to use Monte Carlo simulation to solve simple problem such as computing expected value of a random variable. \n",
    " * Application: Using Monte Carlo simulation to compute area\n",
    " \n",
    "\n",
    " \n"
   ]
  },
  {
   "cell_type": "markdown",
   "id": "85a182b3",
   "metadata": {},
   "source": [
    "## Lecture 5: Simulation-Based Markov Decision Processes\n",
    " \n",
    " * Understand what is Markov Decision Processes\n",
    " * Understand what is Markov chains\n",
    " * Application: Simulating random walk\n",
    "    \n",
    " \n"
   ]
  },
  {
   "cell_type": "markdown",
   "id": "b8282cb0",
   "metadata": {},
   "source": [
    "## Lecture 6: Markov Decision Process Applications\n",
    "\n",
    "* Simulation Wealther Forecast\n",
    " \n",
    "     * Build weather forecast model based on Markov chains\n",
    "     * Application: Weath prediction\n",
    "     * Analysis: properties of Markov chains: static states       \n",
    "    \n",
    "* Optimal Path finding\n",
    " \n",
    "    * Use Markov decision process to model path finding\n",
    "    * Introduce Bellman equation and learning strategy to solve the problem\n"
   ]
  },
  {
   "cell_type": "markdown",
   "id": "46741c42",
   "metadata": {},
   "source": [
    "## Lectures 7-8: Application in Finanical Risk Management\n",
    "\n",
    "* Understanding Geometric Brownian motion model\n",
    "* Use Python to simulate stock price paths\n",
    "* Using simulation method to compute Valute-at-risk"
   ]
  },
  {
   "cell_type": "markdown",
   "id": "678bef11",
   "metadata": {},
   "source": [
    "## Lecture 9: Queuing System and Application in Stock Trading Simulation\n",
    "\n",
    "* Understanding  Single-Server Queue\n",
    "* Simulate a Queing system for stock trades\n",
    "    * Understand limit order book\n",
    "    * Able to construct web app interface using python\n",
    "    * Able to simulate stock trading\n"
   ]
  },
  {
   "cell_type": "markdown",
   "id": "dbc428fd",
   "metadata": {},
   "source": [
    "## Lecture 10: Modeling the Pandemic and Vaccine\n",
    "\n",
    "* Understand SIR model and its variations\n",
    "* Able to simulate the evoluation path of disease spreading\n",
    "* Able to analyze the effect of important elements (contact rates, vaccine rates, etc) in disease spreading using simulation\n"
   ]
  },
  {
   "cell_type": "markdown",
   "id": "9c8b90ce",
   "metadata": {},
   "source": [
    "## Lecture 11: Graphs and Misinformation spreading\n",
    "\n",
    "* Introducing graphs and social network models\n",
    "* Able to use python to simulate misinformation spreading in a social network\n",
    "* Analyze the features and key variables of misinformation spreading in a social network using simulation\n"
   ]
  },
  {
   "cell_type": "markdown",
   "id": "db318074",
   "metadata": {},
   "source": [
    "## Lectures 13-14: Resampling Methods\n",
    "\n",
    "* Jackknife\n",
    "* Bootstrapping\n",
    "* Application: Inference of Investment Sharpe Ratio\n",
    "* Cross-validation\n",
    "* Application: Optimization of an Investment Strategy\n"
   ]
  }
 ],
 "metadata": {
  "kernelspec": {
   "display_name": "Python 3 (ipykernel)",
   "language": "python",
   "name": "python3"
  },
  "language_info": {
   "codemirror_mode": {
    "name": "ipython",
    "version": 3
   },
   "file_extension": ".py",
   "mimetype": "text/x-python",
   "name": "python",
   "nbconvert_exporter": "python",
   "pygments_lexer": "ipython3",
   "version": "3.9.13"
  }
 },
 "nbformat": 4,
 "nbformat_minor": 5
}
