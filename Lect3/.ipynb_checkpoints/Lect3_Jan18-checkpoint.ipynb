{
 "cells": [
  {
   "cell_type": "markdown",
   "id": "dc1d822e",
   "metadata": {},
   "source": [
    "% ISOM 3025 Lect3\n",
    "% Yi Ding\n",
    "% January 2023\n",
    "\n",
    "# Lecture 3: Random number generating with Python\n",
    "\n",
    "\n",
    "## Outlines\n",
    "\n",
    "In this lecture:\n",
    "\n",
    "* Go over the jupyter notebook enviroment in Python programming\n",
    "* Random number generating with Python\n",
    "\n",
    "***\n",
    "\n",
    "## Setting up the programming enviroment \n",
    "\n",
    "\n",
    "We use python and jupyter notebook for case study. Also, you will do quiz using jupyter notebook in class, so I highly recommend you setting up the enviroment in advance if you haven't do so. \n",
    "\n",
    "Jupyter is a software development environment where you can run Python code, including the examples in our course, and write your own code.\n",
    "\n",
    "### 1. Installing python and jupyter notebook\n",
    "\n",
    "*Download Anaconda*\n",
    "\n",
    " I suggest you to use Anaconda, which is a free Python distribution that includes all the libraries you need for this course.\n",
    "Anaconda is available for Linux, macOS, and Windows. By default, it puts all files in your home directory, so you don’t need administrator (root) permission to install it, and if you have a version of Python already, Anaconda will not remove or modify it.\n",
    "\n",
    "Start at https://www.anaconda.com/download. Download the installer for your system and run it. I recommend you run the installer as a normal user, not as administrator or root.\n",
    "\n",
    "I suggest you accept the recommended options. On Windows you have the option to install Visual Studio Code, which is an interactive environment for writing programs. You won’t need it for this book, but you might want it for other projects.\n",
    "\n",
    "By default, Anaconda installs most of the packages you need, but there are a few more you have to add. Once the installation is complete, open a command window. On macOS or Linux, you can use Terminal. On Windows, open the Anaconda Prompt that should be in your Start menu.\n",
    "\n",
    "Run the following command (copy and paste it if you can, to avoid typos):\n",
    "\n",
    "```\n",
    "conda install jupyter pandas sympy\n",
    "conda install beautifulsoup4 lxml html5lib\n",
    "conda install pint\n",
    "```\n",
    "To install any packages xxx in the future:\n",
    "\n",
    "```\n",
    "conda install xxx\n",
    "\n",
    "```\n",
    "\n",
    "### 2. Running Jupyter\n",
    "\n",
    "If you have not used Jupyter before, you can read about it at https://jupyter.org.\n",
    "\n",
    "To start Jupyter on macOS or Linux, open a Terminal; on Windows, open Git Bash. Use cd to “change directory” into the directory that contains the notebooks. Then launch the Jupyter notebook server:\n",
    "\n",
    "Example\n",
    "\n",
    "```\n",
    "cd ISOM3025\n",
    "jupyter notebook\n",
    "\n",
    "```\n",
    "\n",
    "\n",
    "**Note: If you can not open jupyter notebook in cmd, try open anaconda promt and open it there. Alternative, try solution here:\n",
    "https://stackoverflow.com/questions/44515769/conda-is-not-recognized-as-internal-or-external-command**\n",
    "\n",
    "Jupyter should open a window in a browser, and you should see the list of notebooks in your repository. Click on the first notebook, and follow the instructions to run the first few “cells”. The first time you run a notebook, it might take several seconds to start, while some Python files get initialized. After that, it should run faster.\n",
    "\n",
    "You can also launch Jupyter from the Start menu on Windows, the Dock on macOS, or the Anaconda Navigator on any system. If you do that, Jupyter might start in your home directory or somewhere else in your file system, so you might have to navigate to find the directory with the notebooks.\n",
    "\n",
    "\n",
    "***\n",
    "\n",
    "### 3. Opening your working .ipynb file\n",
    "\n",
    "To start with, you can open any working file in your home directory. Or you can creat working file by click the drawdown button \"new\" on topright corner, and then click Python 3 (ipykernel).  \n"
   ]
  },
  {
   "cell_type": "markdown",
   "id": "678bef11",
   "metadata": {},
   "source": [
    "# Generating random variables\n"
   ]
  },
  {
   "cell_type": "markdown",
   "id": "b252ff7d",
   "metadata": {},
   "source": [
    "Example:\n",
    "\n",
    "    1. Specifying a \"seed\", say 1234\n",
    "    2. generating random integer between 1-10\n",
    "    "
   ]
  },
  {
   "cell_type": "code",
   "execution_count": 25,
   "id": "36277d0b",
   "metadata": {},
   "outputs": [
    {
     "data": {
      "text/plain": [
       "8"
      ]
     },
     "execution_count": 25,
     "metadata": {},
     "output_type": "execute_result"
    }
   ],
   "source": [
    "import random\n",
    "random.seed(1234)\n",
    "random.randint(1,10)"
   ]
  },
  {
   "cell_type": "code",
   "execution_count": null,
   "id": "5f5156f5",
   "metadata": {},
   "outputs": [],
   "source": []
  },
  {
   "cell_type": "markdown",
   "id": "dffa8899",
   "metadata": {},
   "source": [
    "  What will happen if we generate a random integer again"
   ]
  },
  {
   "cell_type": "code",
   "execution_count": 28,
   "id": "406a67e6",
   "metadata": {},
   "outputs": [
    {
     "data": {
      "text/plain": [
       "2"
      ]
     },
     "execution_count": 28,
     "metadata": {},
     "output_type": "execute_result"
    }
   ],
   "source": [
    "random.randint(1, 10)"
   ]
  },
  {
   "cell_type": "markdown",
   "id": "f395057a",
   "metadata": {},
   "source": [
    "What will hapen if we restate the seed"
   ]
  },
  {
   "cell_type": "code",
   "execution_count": 30,
   "id": "f1a4e740",
   "metadata": {},
   "outputs": [
    {
     "data": {
      "text/plain": [
       "8"
      ]
     },
     "execution_count": 30,
     "metadata": {},
     "output_type": "execute_result"
    }
   ],
   "source": [
    "random.seed(1234)\n",
    "random.randint(1, 10)"
   ]
  },
  {
   "cell_type": "markdown",
   "id": "dbb7600f",
   "metadata": {},
   "source": [
    "The random module is based on the Mersenne Twister algorithm, which was originally developed to produce\n",
    "inputs for Monte Carlo simulations. The Mersenne Twister algorithm is a pseudo-random number generator (PRNG) that\n",
    "produces almost uniform numbers suitable for a wide range of applications. \n",
    "\n",
    "random.randint function generates random integers. The arguments for randint() are the values of\n",
    "the range, including the extremes. The numbers may be negative or positive, but the first\n",
    "value should be less than the second. \n",
    "\n",
    "The seed function initializes the basic random number generator. Then the randomint produces same set of random data."
   ]
  },
  {
   "cell_type": "markdown",
   "id": "10be21a3",
   "metadata": {},
   "source": [
    "\n",
    "### The pseudo-random number generator (PRNG) \n",
    "\n",
    "The generation of *real* random sequences using deterministic algorithms is impossible:\n",
    "at most, *pseudo-random* sequences can be generated. These are, apparently, random\n",
    "sequences that are actually perfectly predictable and can be repeated after a certain\n",
    "number of extractions. \n",
    "\n",
    "A **PRNG** is an algorithm designed to output a sequence of\n",
    "values that appear to be generated randomly.\n",
    "\n",
    "### The pros and cons of a random number generator\n",
    "\n",
    "A random number generation routine must be the following:\n",
    "* Replicable\n",
    "* Fast\n",
    "* Not have large gaps between two generated numbers\n",
    "* Have a sufficiently long running period\n",
    "* Generate numbers with statistical properties that are as close as possible to\n",
    "ideal ones\n",
    "\n",
    "The most common cons of random number generators are as follows:\n",
    "\n",
    "* Numbers not uniformly distributed\n",
    "* Discretization of the generated numbers\n",
    "* Incorrect mean or variance\n",
    "* Presence of cyclical variations\n",
    "\n",
    "\n",
    "\n",
    "### Linear congruential generator\n",
    "One of the most common methods for generating random numbers is the Linear\n",
    "Congruence Generator (LCG). The theory on which it rests is simple to understand\n",
    "and implement. It also has the advantage of being computationally light. The recursive\n",
    "relationship underlying this technique is provided by the following equation:\n",
    "\n",
    "$$x_{k+1}=(a x_k+c)  \\bmod m, $$\n",
    "\n",
    "where \n",
    "\n",
    "* $x_1$, $\\ldots$,    is a series of generated numbers, \n",
    "* $a$ is the multiplier (non-negative integer),\n",
    "* $c$ is the increment (non-negative integer),\n",
    "* $m$ is the mode (non-negative integer),\n",
    "* $x_0$ is an initial value (seed or non-negative integer).\n",
    "\n",
    "The modulo function, denoted by *mod*, results in the remainder of the Euclidean division\n",
    "of the first number by the second. For example, 18 mod 4 gives 2 as it is the remainder of\n",
    "the Euclidean division between the two numbers.\n",
    "\n",
    "The linear congruence technique has the following characteristics:\n",
    "\n",
    "* It is cyclical with a period that is approximately equal to $m$.\n",
    "* The generated numbers are discretized.\n",
    "\n",
    "\n",
    "\n",
    "\n",
    "Now we are ready to generate some random numbers by ourselves!\n",
    "\n"
   ]
  },
  {
   "cell_type": "code",
   "execution_count": 31,
   "id": "f2dd206a",
   "metadata": {},
   "outputs": [
    {
     "name": "stdout",
     "output_type": "stream",
     "text": [
      "0\n",
      "4\n",
      "2\n",
      "8\n",
      "0\n",
      "4\n",
      "2\n",
      "8\n",
      "0\n",
      "4\n",
      "2\n",
      "8\n",
      "0\n",
      "4\n",
      "2\n",
      "8\n",
      "0\n",
      "4\n",
      "2\n"
     ]
    }
   ],
   "source": [
    "import numpy as np\n",
    "a = 2\n",
    "c = 4\n",
    "m = 10\n",
    "x = 3\n",
    "for i in range (1,20):\n",
    "    x= np.mod((a*x+c),m)\n",
    "    print(x)"
   ]
  },
  {
   "cell_type": "markdown",
   "id": "f60c582a",
   "metadata": {},
   "source": [
    "numpy is a library of additional scientific functions of the Python language, designed\n",
    "to perform operations on vectors and dimensional matrices. numpy allows you to work\n",
    "with vectors and matrices more efficiently and faster than you can do with lists and lists\n",
    "of lists (matrices). In addition, it contains an extensive library of high-level mathematical\n",
    "functions that can operate on these arrays."
   ]
  },
  {
   "cell_type": "markdown",
   "id": "4075b5d5",
   "metadata": {},
   "source": [
    "np.mod function returns the remainder of a division when given\n",
    "a dividend and divisor."
   ]
  },
  {
   "cell_type": "markdown",
   "id": "f73d0714",
   "metadata": {},
   "source": [
    "\n",
    "### Random numbers with uniform distribution\n",
    "A sequence of numbers uniformly distributed between [0, 1] can be obtained using the\n",
    "following formula:\n",
    "    \n",
    "$$\n",
    "𝑈_n=\\frac{x_n}{m}.$$\n",
    "\n",
    "**Important note**\n",
    "To make this work, you need to choose a large value of m, you can reduce both the phenomenon of\n",
    "periodicity and the problem of generating rational numbers. Generally, a value of m is m ≥ 109 so that the generated numbers constitute a dense subset\n",
    "of the interval, [0, 1].\n",
    "\n",
    "\n",
    "**Learmonth-Lewis generator**. This is a generator in which the parameters assume the\n",
    "following values:\n",
    "\n",
    "* $a = 75$\n",
    "* $c = 0$\n",
    "* $m = 2^{31} – 1$\n",
    "\n"
   ]
  },
  {
   "cell_type": "code",
   "execution_count": 23,
   "id": "aaf8ec84",
   "metadata": {},
   "outputs": [
    {
     "name": "stdout",
     "output_type": "stream",
     "text": [
      "3.4924596564343477e-09\n",
      "2.619344742325761e-07\n",
      "1.9645085567443206e-05\n",
      "0.0014733814175582405\n",
      "0.11050360631686804\n",
      "0.28777047376510245\n",
      "0.5827855323826827\n",
      "0.708914928701201\n",
      "0.1686196525900716\n"
     ]
    }
   ],
   "source": [
    "import numpy as np\n",
    "a = 75\n",
    "c = 0\n",
    "m = 2**(31) -1\n",
    "x = 0.1\n",
    "\n",
    "for i in range(1,10):\n",
    "    x= np.mod((a*x+c),m)\n",
    "    u = x/m\n",
    "    print(u)"
   ]
  },
  {
   "cell_type": "markdown",
   "id": "a6dbc785",
   "metadata": {},
   "source": [
    "## Exploring generic methods for a generic distribution\n",
    "\n",
    "We are now able to generate uniform distributions in the range of [0, 1]. Next, we will examine some methods that allow us to derive a generic\n",
    "distribution starting from a uniform distribution of random numbers.\n",
    "\n",
    "### The inverse transform sampling method\n",
    "By having a PRNG with continuous and uniform distributions in the range of [0, 1], it\n",
    "is possible to generate continuous sequences with any probability distribution using the\n",
    "inverse transform sampling technique. \n",
    "\n",
    "Consider a continuous random variable, $x$, having\n",
    "a probability density function of $f(x)$. The corresponding distribution function, $F(x)$, is\n",
    "determined for this function, as follows:\n",
    "$$\n",
    "𝐹(x)= \\int^x 𝑓(𝑥)𝑑x.\n",
    "$$\n",
    "The inverse function is then determined, $x=F^{-1}$. \n",
    "\n",
    "Importantly, **the CDF follows uniform distribution (please check and prove it yourself!) on [0,1]**, hence we can first generate uniform distribution and then use the inverse function $F^{-1}$ to obtain the corresponding $x$.\n",
    "\n"
   ]
  },
  {
   "cell_type": "markdown",
   "id": "48918e38",
   "metadata": {},
   "source": [
    "Example: Exponential distribution\n",
    "$$f(y)=\\lambda e^{-\\lambda y}.$$\n",
    "    The CDF is \n",
    "    $$F(y)=1-e^{-\\lambda y}.$$\n",
    "    The inverse function of the CDF is\n",
    "    $$y=-\\frac{1}{\\lambda}\\log(1-F).$$\n",
    "    \n",
    "\n",
    "What is the CDF of uniform distribution between 0 and 1?\n",
    "\n",
    "\n",
    "Proof: the CDF of any random variable follows uniform [0,1]. For simplicity, suppose that the CDF is strictly increasing. \n",
    "% $$\n",
    "% P(F(y)\\leq t)=P(y\\leq F^{-1}(t))=F(F^{-1}(t))=t.\n",
    "% $$\n",
    "\n",
    "***"
   ]
  },
  {
   "cell_type": "code",
   "execution_count": 39,
   "id": "aebfaa2d",
   "metadata": {},
   "outputs": [
    {
     "data": {
      "image/png": "[encoded data removed]",
      "text/plain": [
       "<Figure size 640x480 with 1 Axes>"
      ]
     },
     "metadata": {},
     "output_type": "display_data"
    }
   ],
   "source": [
    "import numpy as np\n",
    "import matplotlib.pyplot as plt\n",
    "a = 75\n",
    "c = 0\n",
    "m = 2**(31) -1\n",
    "x = 0.1\n",
    "lam=1\n",
    "ylist=[]\n",
    "for i in range(1,101):\n",
    "    x= np.mod((a*x+c),m)\n",
    "    F = x/m \n",
    "    y = -1/lam*np.log(1-F)\n",
    "    ylist.append(y)\n",
    "#    print(y)\n",
    "\n",
    "plt.figure()\n",
    "plt.hist(ylist,density=True,histtype='stepfilled',alpha=0.2)\n",
    "plt.show()"
   ]
  },
  {
   "cell_type": "markdown",
   "id": "06d3b705",
   "metadata": {},
   "source": [
    "* The matplotlib.hist() function draws a histogram. In a histogram, each rectangle has a\n",
    "non-random length equal to the width of the class it represents. The height of each\n",
    "rectangle is equal to the ratio between the absolute frequency associated with the\n",
    "class and the amplitude of the class, and it can be defined as frequency density.\n",
    "* density=True: the function return the\n",
    "counts normalized to form a probability density.\n",
    "* histtype='stepfilled': This parameter defines the type of histogram to\n",
    "draw. The stepfilled value generates a line plot that is filled by default.\n",
    "* alpha=0.2: This is a float value that defines the characteristics of the content\n",
    "(0.0 is transparent and 1.0 is opaque)."
   ]
  },
  {
   "cell_type": "markdown",
   "id": "22379a08",
   "metadata": {},
   "source": [
    "See more examples and ready to use of random variable generation codes in https://realpython.com/python-random/ "
   ]
  },
  {
   "cell_type": "markdown",
   "id": "e101ee80",
   "metadata": {},
   "source": [
    "In summary, in this lecture:\n",
    "    \n",
    "    We learn algorithms of generating random integers within a range, uniform distribution and a general distribution using Python.\n",
    "    \n",
    "    \n",
    "References:  GC Chapter2\n",
    "    \n",
    "Some useful on-line materials:\n",
    "* on-line course material for simulation with Python:\n",
    "https://allendowney.github.io/ModSimPy/index.html\n",
    "\n",
    "* jupyter notebook tutorial:\n",
    "https://www.dataquest.io/blog/jupyter-notebook-tutorial/\n",
    "\n",
    "**NEXT**\n",
    "    \n",
    "    Monte Carlo Simulation\n",
    "    Example 1\n",
    "        \n",
    "        \n"
   ]
  },
  {
   "cell_type": "code",
   "execution_count": null,
   "id": "4a249bb7",
   "metadata": {},
   "outputs": [],
   "source": []
  },
  {
   "cell_type": "markdown",
   "id": "5f6e988e",
   "metadata": {},
   "source": [
    "\n"
   ]
  },
  {
   "cell_type": "markdown",
   "id": "2a36d0b2",
   "metadata": {},
   "source": []
  }
 ],
 "metadata": {
  "kernelspec": {
   "display_name": "Python 3 (ipykernel)",
   "language": "python",
   "name": "python3"
  },
  "language_info": {
   "codemirror_mode": {
    "name": "ipython",
    "version": 3
   },
   "file_extension": ".py",
   "mimetype": "text/x-python",
   "name": "python",
   "nbconvert_exporter": "python",
   "pygments_lexer": "ipython3",
   "version": "3.9.13"
  }
 },
 "nbformat": 4,
 "nbformat_minor": 5
}
